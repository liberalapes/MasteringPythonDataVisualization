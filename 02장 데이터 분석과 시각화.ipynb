{
 "cells": [
  {
   "cell_type": "markdown",
   "metadata": {},
   "source": [
    "# 파이썬 데이터 시작화 마스터"
   ]
  },
  {
   "cell_type": "markdown",
   "metadata": {},
   "source": [
    "## 2장 데이터 분석과 시각화"
   ]
  },
  {
   "cell_type": "markdown",
   "metadata": {},
   "source": [
    "- 충분한 데이터가 있는가?\n",
    "- 이 데이터가 존재하는 기간이 있는가?\n",
    "- 지구상에 이 데이터에 영향을 줄 어떤 연상될 만한 이벤트가 있는가?"
   ]
  },
  {
   "cell_type": "markdown",
   "metadata": {},
   "source": [
    "- 데이터 수집, 분석, 필터링, 데이터 마이닝 및 정제, 시각적 표현 및 인터랙션 하기\n",
    "- 데이터로부터 흥미있는 이야기 생성하기\n",
    "- 인지, 표현 방법 및 시각화를 위한 최선의 방법\n",
    "- 인터랙티브한 시각화 만들기 - 이벤트 리스너 및 배치에 대한 탐험"
   ]
  },
  {
   "cell_type": "markdown",
   "metadata": {},
   "source": [
    "### 시각화는 왜 계획이 필요한가?"
   ]
  },
  {
   "cell_type": "markdown",
   "metadata": {},
   "source": [
    "- 외부 소스, 웹사이트, 디스크에 있는 파일들로부터 데이터를 가져오기하고 수집한다\n",
    "- 데이터를 분석, 정제하거나 데이터 자체를 줄이기 위해서 프로그래밍을 통해 데이터를 파싱하고 필터링한다.\n",
    "- 잡음과 불필요한 데멘션을 제거하고 패턴을 발견하기 위해서 분석하고 정제한다.\n",
    "- 더 접근 가능하고 이해할 수 있는 방식으로 데이터를 표현해 데이터와 인터랙션한다"
   ]
  },
  {
   "cell_type": "markdown",
   "metadata": {},
   "source": [
    "### 에볼라 예제"
   ]
  },
  {
   "cell_type": "code",
   "execution_count": 111,
   "metadata": {},
   "outputs": [
    {
     "data": {
      "text/html": [
       "<div>\n",
       "<style scoped>\n",
       "    .dataframe tbody tr th:only-of-type {\n",
       "        vertical-align: middle;\n",
       "    }\n",
       "\n",
       "    .dataframe tbody tr th {\n",
       "        vertical-align: top;\n",
       "    }\n",
       "\n",
       "    .dataframe thead th {\n",
       "        text-align: right;\n",
       "    }\n",
       "</style>\n",
       "<table border=\"1\" class=\"dataframe\">\n",
       "  <thead>\n",
       "    <tr style=\"text-align: right;\">\n",
       "      <th></th>\n",
       "      <th>Indicator</th>\n",
       "      <th>Country</th>\n",
       "      <th>Date</th>\n",
       "      <th>value</th>\n",
       "    </tr>\n",
       "  </thead>\n",
       "  <tbody>\n",
       "    <tr>\n",
       "      <th>0</th>\n",
       "      <td>Cumulative number of confirmed Ebola cases</td>\n",
       "      <td>Guinea</td>\n",
       "      <td>2014-08-29</td>\n",
       "      <td>482.0</td>\n",
       "    </tr>\n",
       "    <tr>\n",
       "      <th>1</th>\n",
       "      <td>Cumulative number of probable Ebola cases</td>\n",
       "      <td>Guinea</td>\n",
       "      <td>2014-08-29</td>\n",
       "      <td>141.0</td>\n",
       "    </tr>\n",
       "    <tr>\n",
       "      <th>2</th>\n",
       "      <td>Cumulative number of suspected Ebola cases</td>\n",
       "      <td>Guinea</td>\n",
       "      <td>2014-08-29</td>\n",
       "      <td>25.0</td>\n",
       "    </tr>\n",
       "    <tr>\n",
       "      <th>3</th>\n",
       "      <td>Cumulative number of confirmed, probable and s...</td>\n",
       "      <td>Guinea</td>\n",
       "      <td>2014-08-29</td>\n",
       "      <td>648.0</td>\n",
       "    </tr>\n",
       "    <tr>\n",
       "      <th>4</th>\n",
       "      <td>Cumulative number of confirmed Ebola cases</td>\n",
       "      <td>Liberia</td>\n",
       "      <td>2014-08-29</td>\n",
       "      <td>322.0</td>\n",
       "    </tr>\n",
       "  </tbody>\n",
       "</table>\n",
       "</div>"
      ],
      "text/plain": [
       "                                           Indicator  Country        Date  \\\n",
       "0         Cumulative number of confirmed Ebola cases   Guinea  2014-08-29   \n",
       "1          Cumulative number of probable Ebola cases   Guinea  2014-08-29   \n",
       "2         Cumulative number of suspected Ebola cases   Guinea  2014-08-29   \n",
       "3  Cumulative number of confirmed, probable and s...   Guinea  2014-08-29   \n",
       "4         Cumulative number of confirmed Ebola cases  Liberia  2014-08-29   \n",
       "\n",
       "   value  \n",
       "0  482.0  \n",
       "1  141.0  \n",
       "2   25.0  \n",
       "3  648.0  \n",
       "4  322.0  "
      ]
     },
     "execution_count": 111,
     "metadata": {},
     "output_type": "execute_result"
    }
   ],
   "source": [
    "import numpy as np\n",
    "import pandas as pd\n",
    "import csv \n",
    "import operator \n",
    "import datetime as dt  \n",
    "import matplotlib.pyplot as plt  \n",
    "\n",
    "eboladata = pd.read_csv(\"/Users/chosikc/Sites/MasteringPythonDataVisualization/Code/Chapter2/ebola.csv\")\n",
    "filtereddata = eboladata[eboladata[\"value\"]>0]\n",
    "\n",
    "filtereddata.head()\n"
   ]
  },
  {
   "cell_type": "code",
   "execution_count": 112,
   "metadata": {},
   "outputs": [
    {
     "name": "stdout",
     "output_type": "stream",
     "text": [
      "<class 'pandas.core.frame.DataFrame'>\n"
     ]
    }
   ],
   "source": [
    "filtered_len = filtereddata[\"Indicator\"].str.contains(\"deaths\")\n",
    "\n",
    "print (type(filtereddata) )"
   ]
  },
  {
   "cell_type": "code",
   "execution_count": 113,
   "metadata": {},
   "outputs": [],
   "source": [
    "# sorteddata = sorted(filtereddata, key=operator.itemgetter(1))  \n",
    "# print(type(sorteddata))"
   ]
  },
  {
   "cell_type": "code",
   "execution_count": 178,
   "metadata": {},
   "outputs": [],
   "source": [
    "with open('/Users/chosikc/Sites/MasteringPythonDataVisualization/Code/Chapter2/ebola.csv', 'rt') as f: \n",
    "  filtereddata = [row for row in csv.reader(f) if row[3] != \"0.0\" and \n",
    "  row[3] != \"0\" and \"deaths\" in row[0]] "
   ]
  },
  {
   "cell_type": "code",
   "execution_count": 179,
   "metadata": {},
   "outputs": [],
   "source": [
    "import matplotlib.pyplot as plt  \n",
    "import csv \n",
    "import operator \n",
    "import datetime as dt  \n",
    "\n",
    "with open('/Users/chosikc/Sites/MasteringPythonDataVisualization/Code/Chapter2/ebola.csv', 'rt') as f: \n",
    "  filtereddata = [row for row in csv.reader(f) if row[3] != \"0.0\" and \n",
    "  row[3] != \"0\" and \"deaths\" in row[0]] "
   ]
  },
  {
   "cell_type": "code",
   "execution_count": 180,
   "metadata": {},
   "outputs": [],
   "source": [
    "sorteddata_1 = sorted(filtereddata, key=operator.itemgetter(1)) "
   ]
  },
  {
   "cell_type": "code",
   "execution_count": 181,
   "metadata": {},
   "outputs": [
    {
     "data": {
      "image/png": "[encoded data removed]",
      "text/plain": [
       "<Figure size 576x576 with 1 Axes>"
      ]
     },
     "metadata": {
      "needs_background": "light"
     },
     "output_type": "display_data"
    }
   ],
   "source": [
    "guineadata_1  = [row for row in sorteddata_1 if row[1] == \"Guinea\" and \n",
    "    row[0] == \"Cumulative number of confirmed Ebola deaths\"] \n",
    "sierradata_1  = [row for row in sorteddata_1 if row[1] == \"Sierra Leone\" and \n",
    "    row[0] == \"Cumulative number of confirmed Ebola deaths\"] \n",
    "liberiadata_1 = [row for row in sorteddata_1 if row[1] == \"Liberia\" and \n",
    "    row[0] == \"Cumulative number of confirmed Ebola deaths\"] \n",
    "\n",
    "g_x = [dt.datetime.strptime(row[2], '%Y-%m-%d').date() for \n",
    "       row in guineadata_1] \n",
    "g_y = [row[3] for row in guineadata_1] \n",
    "\n",
    "s_x = [dt.datetime.strptime(row[2], '%Y-%m-%d').date() for \n",
    "       row in sierradata_1] \n",
    "s_y = [row[3] for row in sierradata_1] \n",
    "\n",
    "l_x = [dt.datetime.strptime(row[2], '%Y-%m-%d').date() for\n",
    "       row in liberiadata_1] \n",
    "l_y = [row[3] for row in liberiadata_1] \n",
    "\n",
    "plt.figure(figsize = (8,8))\n",
    "\n",
    "max_y = float(max(max(g_y), max(s_y), max(l_y)))\n",
    "plt.yticks(np.arange(0, max_y, step=50))\n",
    "\n",
    "plt.plot(g_x, g_y, color='red', linewidth = 2, label = \"Guinea\") \n",
    "plt.plot(s_x, s_y, color='orange', linewidth = 2, label = \"Sierra Leone\") \n",
    "plt.plot(l_x, l_y, color='blue', linewidth = 2, label = \"Liberia\")  \n",
    "\n",
    "plt.xlabel('Date', fontsize = 18)\n",
    "plt.ylabel('number of confirmed Ebola deaths', fontsize = 18)\n",
    "plt.title('Confirmed Ebola deaths', fontsize = 20)\n",
    "\n",
    "plt.legend(loc = 2)\n",
    "\n",
    "plt.show()"
   ]
  },
  {
   "cell_type": "code",
   "execution_count": 182,
   "metadata": {},
   "outputs": [],
   "source": [
    "sorteddata_2 = sorted(filtereddata, key=operator.itemgetter(1)) "
   ]
  },
  {
   "cell_type": "code",
   "execution_count": 183,
   "metadata": {},
   "outputs": [
    {
     "data": {
      "image/png": "[encoded data removed]",
      "text/plain": [
       "<Figure size 576x576 with 1 Axes>"
      ]
     },
     "metadata": {
      "needs_background": "light"
     },
     "output_type": "display_data"
    }
   ],
   "source": [
    "guineadata_2  = [row for row in sorteddata_2 if row[1] == \"Guinea\" and\n",
    "    row[0] == \"Cumulative number of confirmed, probable and suspected Ebola deaths\"]\n",
    "sierradata_2 = [row for row in sorteddata_2 if row[1] == \"Sierra Leone\" and\n",
    "    row[0] == \"Cumulative number of confirmed, probable and suspected Ebola deaths\"]\n",
    "liberiadata_2 = [row for row in sorteddata_2 if row[1] == \"Liberia\" and \n",
    "    row[0] == \"Cumulative number of confirmed, probable and suspected Ebola deaths\"]\n",
    "\n",
    "g_x = [dt.datetime.strptime(row[2], '%Y-%m-%d').date() for\n",
    "       row in guineadata_2]\n",
    "g_y = [row[3] for row in guineadata_2]\n",
    "\n",
    "s_x = [dt.datetime.strptime(row[2], '%Y-%m-%d').date() for\n",
    "       row in sierradata_2]\n",
    "s_y = [row[3] for row in sierradata_2]\n",
    "\n",
    "l_x = [dt.datetime.strptime(row[2], '%Y-%m-%d').date() for\n",
    "       row in liberiadata_2]\n",
    "l_y = [row[3] for row in liberiadata_2]\n",
    "\n",
    "plt.figure(figsize = (8,8))\n",
    "\n",
    "max_y = float(max(max(g_y), max(s_y), max(l_y)))\n",
    "plt.yticks(np.arange(0, max_y, step=50))\n",
    "\n",
    "plt.plot(g_x, g_y, color='red', linewidth = 2, label = \"Guinea\") \n",
    "plt.plot(s_x, s_y, color='orange', linewidth = 2, label = \"Sierra Leone\") \n",
    "plt.plot(l_x, l_y, color='blue', linewidth = 2, label = \"Liberia\")  \n",
    "\n",
    "plt.xlabel('Date', fontsize = 18)\n",
    "plt.ylabel('number of confirmed Ebola deaths', fontsize = 18)\n",
    "plt.title('Probable and Suspected Ebola deaths', fontsize = 20)\n",
    "\n",
    "plt.legend(loc = 2)\n",
    "\n",
    "plt.show()\n"
   ]
  },
  {
   "cell_type": "markdown",
   "metadata": {},
   "source": [
    "### 스포츠 예제"
   ]
  },
  {
   "cell_type": "markdown",
   "metadata": {},
   "source": [
    "#### 시각적으로 결과를 표현하기"
   ]
  },
  {
   "cell_type": "markdown",
   "metadata": {},
   "source": [
    "### 데이터를 이용해 즐거운 이야기 만들기"
   ]
  },
  {
   "cell_type": "markdown",
   "metadata": {},
   "source": [
    "#### 왜 이야기는 중요한가?"
   ]
  },
  {
   "cell_type": "markdown",
   "metadata": {},
   "source": [
    "#### 독자 중심의 이야기"
   ]
  },
  {
   "cell_type": "markdown",
   "metadata": {},
   "source": [
    "##### 갭마인더"
   ]
  },
  {
   "cell_type": "markdown",
   "metadata": {},
   "source": [
    "##### 미국의 주별 유권자 경향"
   ]
  },
  {
   "cell_type": "markdown",
   "metadata": {},
   "source": [
    "##### 미국 내 사망률"
   ]
  },
  {
   "cell_type": "markdown",
   "metadata": {},
   "source": [
    "##### 이야기를 위한 몇 가지 다른 예"
   ]
  },
  {
   "cell_type": "markdown",
   "metadata": {},
   "source": [
    "##### 저자 중심의 이야기"
   ]
  },
  {
   "cell_type": "markdown",
   "metadata": {},
   "source": [
    "### 인식 방법과 표현 방법"
   ]
  },
  {
   "cell_type": "markdown",
   "metadata": {},
   "source": [
    "- 과학의 시각화 : 고유한 물리적 개체를 가지는 과학적 데이터양을 포함\n",
    "- 정보의 시각화  : 추상적인 정보를 포함<br>\n",
    "<br>\n",
    "- 데이터 분석 향상을 위해 시각적으로 표현\n",
    "- 데이터 이해, 아이디어, 가설, 통찰을 위한 시각적 표현 모델\n",
    "- 가설을 보조해주거나 모순되는 증거를 찾기 위해 사용자의 모델을 향상\n",
    "- 아이디어를 공유하고 조직화하기 위해 사용자를 도와주는 것"
   ]
  },
  {
   "cell_type": "markdown",
   "metadata": {},
   "source": [
    "#### 지각에서의 게슈탈트 법칙"
   ]
  },
  {
   "cell_type": "markdown",
   "metadata": {},
   "source": [
    "- 근접성 Proximity:  물체가 서로 가까이 있거나 서로 연결돼 있을 때, 그룹으로 인식해, 물체들의 분리를 줄임\n",
    "- 유사성 Similarity: 물체들이 비슷한 속성, 색, 형태를 가질 떄 같은 그룹으로 인식\n",
    "- 공동 운명 Common fate : 한 공간에 근접성과 유사성을 모두 만족하는 물체들이 있을 경우, 물체들의 방향성을 기준으로 다시 그룹화\n",
    "- 좋은 연속성 Good continuation\n",
    "- 폐쇄성 Closeure"
   ]
  },
  {
   "cell_type": "markdown",
   "metadata": {},
   "source": [
    "### 시각화를 위한 좋은 사례들"
   ]
  },
  {
   "cell_type": "markdown",
   "metadata": {},
   "source": [
    "- 비교와 순위\n",
    "- 상호 연관성\n",
    "- 분포\n",
    "- 지역 특정 혹은 지리 정보\n",
    "- 일부와 전체의 관계\n",
    "- 시간에 따른 경향"
   ]
  },
  {
   "cell_type": "markdown",
   "metadata": {},
   "source": [
    "#### 비교와 순위"
   ]
  },
  {
   "cell_type": "markdown",
   "metadata": {},
   "source": [
    "#### 상호 연관성"
   ]
  },
  {
   "cell_type": "markdown",
   "metadata": {},
   "source": [
    "#### 분포"
   ]
  },
  {
   "cell_type": "markdown",
   "metadata": {},
   "source": [
    "#### 지역 특정 혹은 지리정보"
   ]
  },
  {
   "cell_type": "markdown",
   "metadata": {},
   "source": [
    "#### 부분에서 전체의 관계"
   ]
  },
  {
   "cell_type": "markdown",
   "metadata": {},
   "source": [
    "#### 시간 경과에 따른 경향"
   ]
  },
  {
   "cell_type": "markdown",
   "metadata": {},
   "source": [
    "### 파이썬을 이용한 시각화 도구"
   ]
  },
  {
   "cell_type": "markdown",
   "metadata": {},
   "source": [
    "#### 개발 도구"
   ]
  },
  {
   "cell_type": "markdown",
   "metadata": {},
   "source": [
    "##### Enthought의 Canopy"
   ]
  },
  {
   "cell_type": "markdown",
   "metadata": {},
   "source": [
    "##### 컨티넘 애널리틱스의 아나콘다"
   ]
  },
  {
   "cell_type": "markdown",
   "metadata": {},
   "source": [
    "### 인터랙티브 시각화"
   ]
  },
  {
   "cell_type": "markdown",
   "metadata": {},
   "source": [
    "#### 이벤트 리스너"
   ]
  },
  {
   "cell_type": "markdown",
   "metadata": {},
   "source": [
    "#### 레이아웃"
   ]
  },
  {
   "cell_type": "markdown",
   "metadata": {},
   "source": [
    "##### 원형 레이아웃"
   ]
  },
  {
   "cell_type": "markdown",
   "metadata": {},
   "source": [
    "##### 방사형 레이아웃"
   ]
  },
  {
   "cell_type": "markdown",
   "metadata": {},
   "source": [
    "##### 풍선 레이아웃"
   ]
  },
  {
   "cell_type": "markdown",
   "metadata": {},
   "source": [
    "### 요약 "
   ]
  },
  {
   "cell_type": "code",
   "execution_count": null,
   "metadata": {},
   "outputs": [],
   "source": []
  }
 ],
 "metadata": {
  "kernelspec": {
   "display_name": "Python 3",
   "language": "python",
   "name": "python3"
  },
  "language_info": {
   "codemirror_mode": {
    "name": "ipython",
    "version": 3
   },
   "file_extension": ".py",
   "mimetype": "text/x-python",
   "name": "python",
   "nbconvert_exporter": "python",
   "pygments_lexer": "ipython3",
   "version": "3.6.6"
  }
 },
 "nbformat": 4,
 "nbformat_minor": 2
}
